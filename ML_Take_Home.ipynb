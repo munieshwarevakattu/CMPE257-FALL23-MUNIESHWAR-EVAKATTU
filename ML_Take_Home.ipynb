{
  "cells": [
    {
      "cell_type": "markdown",
      "metadata": {
        "id": "view-in-github",
        "colab_type": "text"
      },
      "source": [
        "<a href=\"https://colab.research.google.com/github/munieshwarevakattu/CMPE257-FALL23-MUNIESHWAR-EVAKATTU/blob/take-home-exam/ML_Take_Home.ipynb\" target=\"_parent\"><img src=\"https://colab.research.google.com/assets/colab-badge.svg\" alt=\"Open In Colab\"/></a>"
      ]
    },
    {
      "cell_type": "markdown",
      "source": [
        "## Task 1"
      ],
      "metadata": {
        "id": "cuT-_FHSF0jQ"
      }
    },
    {
      "cell_type": "code",
      "source": [
        "from google.colab import drive\n",
        "drive.mount('/content/drive')"
      ],
      "metadata": {
        "colab": {
          "base_uri": "https://localhost:8080/"
        },
        "id": "rG_gQ1VDPmM0",
        "outputId": "1146bd3b-139a-4b06-9824-b54ff6af75c2"
      },
      "execution_count": 8,
      "outputs": [
        {
          "output_type": "stream",
          "name": "stdout",
          "text": [
            "Drive already mounted at /content/drive; to attempt to forcibly remount, call drive.mount(\"/content/drive\", force_remount=True).\n"
          ]
        }
      ]
    },
    {
      "cell_type": "code",
      "execution_count": 9,
      "metadata": {
        "id": "1OwSia6h5J-F"
      },
      "outputs": [],
      "source": [
        "import pandas as pd\n",
        "import numpy as np\n",
        "\n",
        "training_data = pd.read_csv('/content/drive/MyDrive/data/synthetic_dataset (2).csv')\n",
        "validation_data = pd.read_csv('/content/drive/MyDrive/data/synthetic_test_dataset.csv')\n",
        "\n",
        "def polynomial_transform(features, degree):\n",
        "    if degree == 2:\n",
        "        return np.column_stack((features, features[:, 0]**2, features[:, 1]**2, features[:, 0] * features[:, 1]))\n",
        "    elif degree == 3:\n",
        "        return np.column_stack((features, features[:, 0]**2, features[:, 1]**2, features[:, 0]**3, features[:, 1]**3, features[:, 0]**2 * features[:, 1], features[:, 1]**2 * features[:, 0]))\n",
        "    elif degree == 4:\n",
        "        return np.column_stack((features, features[:, 0]**2, features[:, 1]**2, features[:, 0]**3, features[:, 1]**3, features[:, 0]*features[:, 1], features[:, 0]**2 * features[:, 1]**2, features[:, 0]**4, features[:, 1]**4, features[:, 0]**2 * features[:, 1]**2 * features[:, 0], features[:, 0] * features[:, 1]**3))\n",
        "    else:\n",
        "        return features\n",
        "\n",
        "\n",
        "class Perceptron:\n",
        "    def __init__(self, learning_rate=0.1, epochs=100):\n",
        "        self.learning_rate = learning_rate\n",
        "        self.epochs = epochs\n",
        "        self.weights = None\n",
        "        self.bias = None\n",
        "\n",
        "    def train(self, X, y):\n",
        "        num_features = X.shape[1]\n",
        "        self.weights = np.zeros(num_features)\n",
        "        self.bias = 0\n",
        "\n",
        "        for epoch in range(self.epochs):\n",
        "            for i in range(X.shape[0]):\n",
        "                prediction = np.dot(X[i], self.weights) + self.bias\n",
        "                activation = np.sign(prediction)\n",
        "                update = self.learning_rate * (y[i] - activation)\n",
        "                self.weights += update * X[i]\n",
        "                self.bias += update\n",
        "\n",
        "    def predict(self, X):\n",
        "        prediction = np.dot(X, self.weights) + self.bias\n",
        "        return np.where(prediction >= 0, 1, -1)"
      ]
    },
    {
      "cell_type": "code",
      "source": [
        "X_train = training_data[['x1', 'x2']].values\n",
        "y_train = training_data['y'].values\n",
        "\n",
        "X_val = validation_data[['x1', 'x2']].values\n",
        "y_val = validation_data['y'].values\n",
        "\n",
        "\n",
        "\n",
        "degrees = [1, 2, 3, 4]\n",
        "\n",
        "train_errors = []\n",
        "val_errors = []\n",
        "train_misclassified = []\n",
        "val_misclassified = []\n",
        "\n",
        "for degree in degrees:\n",
        "    if degree == 1:\n",
        "        model_features = X_train\n",
        "        val_model_features = X_val\n",
        "    else:\n",
        "        model_features = polynomial_transform(X_train, degree)\n",
        "        val_model_features = polynomial_transform(X_val, degree)\n",
        "\n",
        "    pla_model = Perceptron()\n",
        "    pla_model.train(model_features, y_train)\n",
        "    train_predictions = pla_model.predict(model_features)\n",
        "    val_predictions = pla_model.predict(val_model_features)\n",
        "    train_error = np.mean(train_predictions != y_train)\n",
        "    val_error = np.mean(val_predictions != y_val)\n",
        "\n",
        "    train_misclassified.append(np.sum(train_predictions != y_train))\n",
        "    val_misclassified.append(np.sum(val_predictions != y_val))\n",
        "\n",
        "    train_errors.append(train_error)\n",
        "    val_errors.append(val_error)"
      ],
      "metadata": {
        "id": "QK6sqtLoAkFg"
      },
      "execution_count": 10,
      "outputs": []
    },
    {
      "cell_type": "code",
      "source": [
        "labels = [\"Training Error\", \"Validation Error\", \"Training Misclassified Points\", \"ValidationMisclassifiedPoints\"]\n",
        "results = []\n",
        "\n",
        "for i, degree in enumerate(degrees):\n",
        "    result = {\n",
        "        f\"Degree {degree} \": {\n",
        "            label: value for label, value in zip(labels, [\n",
        "                train_errors[i],\n",
        "                val_errors[i],\n",
        "                train_misclassified[i],\n",
        "                val_misclassified[i]\n",
        "            ])\n",
        "        }\n",
        "    }\n",
        "    results.append(result)\n",
        "for label in [\"\", *labels]:\n",
        "    print(label.ljust(30), end=\"\")\n",
        "    for result in results:\n",
        "        for degree, values in result.items():\n",
        "            print(str(values.get(label, degree)).ljust(30), end=\"\")\n",
        "    print(\"\")"
      ],
      "metadata": {
        "colab": {
          "base_uri": "https://localhost:8080/"
        },
        "id": "YrLN3SlhAmtZ",
        "outputId": "ea4c39e6-c74d-429a-a11c-bae8f7c0e77c"
      },
      "execution_count": 11,
      "outputs": [
        {
          "output_type": "stream",
          "name": "stdout",
          "text": [
            "                              Degree 1                      Degree 2                      Degree 3                      Degree 4                      \n",
            "Training Error                0.36                          0.26                          0.1                           0.34                          \n",
            "Validation Error              0.292                         0.352                         0.158                         0.374                         \n",
            "Training Misclassified Points 18                            13                            5                             17                            \n",
            "ValidationMisclassifiedPoints 146                           176                           79                            187                           \n"
          ]
        }
      ]
    },
    {
      "cell_type": "code",
      "execution_count": 12,
      "metadata": {
        "colab": {
          "base_uri": "https://localhost:8080/",
          "height": 564
        },
        "id": "BR4uKk3X5J-H",
        "outputId": "78126ce1-6ba3-4b56-8602-4d99f0c8b15b"
      },
      "outputs": [
        {
          "output_type": "display_data",
          "data": {
            "text/plain": [
              "<Figure size 800x600 with 1 Axes>"
            ],
            "image/png": "[encoded data removed]"
          },
          "metadata": {}
        }
      ],
      "source": [
        "import matplotlib.pyplot as plt\n",
        "\n",
        "model_labels = ['Perceptron(1st Order)','Quadratic', '3rd Degree', '4th Degree']\n",
        "training_errors = [train_errors[0], train_errors[1], train_errors[2],train_errors[3]]\n",
        "validation_errors = [val_errors[0], val_errors[1], val_errors[2],val_errors[3]]\n",
        "\n",
        "plt.figure(figsize=(8, 6))\n",
        "plt.plot(model_labels, training_errors, marker='o', label='Training Error', color='blue')\n",
        "plt.plot(model_labels, validation_errors, marker='s', label='Validation Error', color='red')\n",
        "plt.xlabel('Models')\n",
        "plt.ylabel('Error')\n",
        "plt.title('Comparison of Errors: 1st Oder(linear) vs Polynomial Models')\n",
        "plt.legend()\n",
        "plt.grid(True)\n",
        "plt.show()\n"
      ]
    },
    {
      "cell_type": "markdown",
      "metadata": {
        "id": "Ev8v6qYu5J-H"
      },
      "source": [
        "### Observations:\n",
        "\n",
        "#### Perceptron (1st Order) Model:\n",
        "The Perceptron model demonstrates larger errors in both the training and validation sets compared to the polynomial models. Although it yields a slightly better validation error, indicating a glimpse of performance on unseen data, its overall performance is surpassed by the polynomial models.\n",
        "\n",
        "#### Degree 2 (Quadratic) Polynomial Model:\n",
        "The quadratic polynomial model displays reduced errors in both training and validation when compared to the linear (Perceptron) model. It signifies a better fit to the data and an improvement over the linear model.\n",
        "\n",
        "#### Degree 3 Polynomial Model:\n",
        "Upon introducing the 3rd order polynomial features, the training error significantly decreases, showcasing a notable improvement over the linear and quadratic models. However, the validation error also decreases, albeit not as substantially, indicating that while the 3rd order polynomial model performs better on training data, its generalization to unseen data is slightly less than desired.\n",
        "\n",
        "#### Degree 4 Polynomial Model:\n",
        "With the inclusion of 4th order polynomial features, the training error further reduces, indicating enhanced accuracy on the training set. The validation error decreases as well, becoming lower than the 3rd order polynomial model. However, the improvement in validation error is less pronounced than the training error, hinting at potential overfitting.\n",
        "\n",
        "### Conclusion:\n",
        "\n",
        "#### Model Selection Decision:\n",
        "Based on the observations made:\n",
        "I opt for the **3rd order** polynomial model as the most suitable choice. It exhibits improved performance over the linear and quadratic models, showcasing a balance between accuracy on training data and generalization to unseen data. Despite the slight decrease in generalization compared to higher-order polynomial models, its validation error is relatively lower among the models tested, indicating better potential performance on unseen data. This selection aligns with the aim of achieving better generalization without overfitting.\n",
        "\n",
        "\n"
      ]
    },
    {
      "cell_type": "markdown",
      "source": [
        "## Task 2"
      ],
      "metadata": {
        "id": "rIQ8g1prF6By"
      }
    },
    {
      "cell_type": "code",
      "source": [
        "df=pd.read_csv('/content/drive/MyDrive/data/breast_cancer_dataset_preprocessed.csv')\n",
        "df.head()\n",
        "len(df)"
      ],
      "metadata": {
        "colab": {
          "base_uri": "https://localhost:8080/"
        },
        "id": "_VS7shJMVjHB",
        "outputId": "d0f3832f-5899-4374-b062-c508d3b2535f"
      },
      "execution_count": 13,
      "outputs": [
        {
          "output_type": "execute_result",
          "data": {
            "text/plain": [
              "381"
            ]
          },
          "metadata": {},
          "execution_count": 13
        }
      ]
    },
    {
      "cell_type": "code",
      "source": [
        "df.describe()"
      ],
      "metadata": {
        "colab": {
          "base_uri": "https://localhost:8080/",
          "height": 300
        },
        "id": "_6x4wRgTozSw",
        "outputId": "b5638552-d176-4d81-d435-352e7311ab26"
      },
      "execution_count": 14,
      "outputs": [
        {
          "output_type": "execute_result",
          "data": {
            "text/plain": [
              "                 x1            x2            x3            x4            x5  \\\n",
              "count  3.810000e+02  3.810000e+02  3.810000e+02  3.810000e+02  3.810000e+02   \n",
              "mean   4.662354e-18  2.797412e-17 -1.631824e-17 -2.797412e-17 -2.797412e-17   \n",
              "std    3.621316e+00  2.384647e+00  1.734338e+00  1.429617e+00  1.287268e+00   \n",
              "min   -5.508773e+00 -7.715905e+00 -4.493143e+00 -4.123493e+00 -4.905151e+00   \n",
              "25%   -2.742047e+00 -1.477377e+00 -1.037060e+00 -9.484575e-01 -6.733832e-01   \n",
              "50%   -1.110688e+00 -1.824313e-01 -1.804973e-01 -6.289660e-02 -5.918051e-02   \n",
              "75%    2.528431e+00  1.238930e+00  8.892163e-01  7.023924e-01  6.294085e-01   \n",
              "max    1.574861e+01  1.264984e+01  9.743745e+00  5.241572e+00  6.377598e+00   \n",
              "\n",
              "                 x6            x7            x8  \n",
              "count  3.810000e+02  3.810000e+02  3.810000e+02  \n",
              "mean  -9.324708e-18  4.662354e-18  9.324708e-18  \n",
              "std    1.081252e+00  8.255491e-01  6.943847e-01  \n",
              "min   -4.173706e+00 -3.651191e+00 -3.023013e+00  \n",
              "25%   -7.036125e-01 -4.657817e-01 -3.591851e-01  \n",
              "50%   -1.078260e-01 -5.509302e-03  1.888426e-02  \n",
              "75%    5.992903e-01  4.462397e-01  3.551078e-01  \n",
              "max    4.961734e+00  5.032409e+00  4.207317e+00  "
            ],
            "text/html": [
              "\n",
              "  <div id=\"df-1784a0b8-f90c-40cf-bf07-a257b4e40bdc\" class=\"colab-df-container\">\n",
              "    <div>\n",
              "<style scoped>\n",
              "    .dataframe tbody tr th:only-of-type {\n",
              "        vertical-align: middle;\n",
              "    }\n",
              "\n",
              "    .dataframe tbody tr th {\n",
              "        vertical-align: top;\n",
              "    }\n",
              "\n",
              "    .dataframe thead th {\n",
              "        text-align: right;\n",
              "    }\n",
              "</style>\n",
              "<table border=\"1\" class=\"dataframe\">\n",
              "  <thead>\n",
              "    <tr style=\"text-align: right;\">\n",
              "      <th></th>\n",
              "      <th>x1</th>\n",
              "      <th>x2</th>\n",
              "      <th>x3</th>\n",
              "      <th>x4</th>\n",
              "      <th>x5</th>\n",
              "      <th>x6</th>\n",
              "      <th>x7</th>\n",
              "      <th>x8</th>\n",
              "    </tr>\n",
              "  </thead>\n",
              "  <tbody>\n",
              "    <tr>\n",
              "      <th>count</th>\n",
              "      <td>3.810000e+02</td>\n",
              "      <td>3.810000e+02</td>\n",
              "      <td>3.810000e+02</td>\n",
              "      <td>3.810000e+02</td>\n",
              "      <td>3.810000e+02</td>\n",
              "      <td>3.810000e+02</td>\n",
              "      <td>3.810000e+02</td>\n",
              "      <td>3.810000e+02</td>\n",
              "    </tr>\n",
              "    <tr>\n",
              "      <th>mean</th>\n",
              "      <td>4.662354e-18</td>\n",
              "      <td>2.797412e-17</td>\n",
              "      <td>-1.631824e-17</td>\n",
              "      <td>-2.797412e-17</td>\n",
              "      <td>-2.797412e-17</td>\n",
              "      <td>-9.324708e-18</td>\n",
              "      <td>4.662354e-18</td>\n",
              "      <td>9.324708e-18</td>\n",
              "    </tr>\n",
              "    <tr>\n",
              "      <th>std</th>\n",
              "      <td>3.621316e+00</td>\n",
              "      <td>2.384647e+00</td>\n",
              "      <td>1.734338e+00</td>\n",
              "      <td>1.429617e+00</td>\n",
              "      <td>1.287268e+00</td>\n",
              "      <td>1.081252e+00</td>\n",
              "      <td>8.255491e-01</td>\n",
              "      <td>6.943847e-01</td>\n",
              "    </tr>\n",
              "    <tr>\n",
              "      <th>min</th>\n",
              "      <td>-5.508773e+00</td>\n",
              "      <td>-7.715905e+00</td>\n",
              "      <td>-4.493143e+00</td>\n",
              "      <td>-4.123493e+00</td>\n",
              "      <td>-4.905151e+00</td>\n",
              "      <td>-4.173706e+00</td>\n",
              "      <td>-3.651191e+00</td>\n",
              "      <td>-3.023013e+00</td>\n",
              "    </tr>\n",
              "    <tr>\n",
              "      <th>25%</th>\n",
              "      <td>-2.742047e+00</td>\n",
              "      <td>-1.477377e+00</td>\n",
              "      <td>-1.037060e+00</td>\n",
              "      <td>-9.484575e-01</td>\n",
              "      <td>-6.733832e-01</td>\n",
              "      <td>-7.036125e-01</td>\n",
              "      <td>-4.657817e-01</td>\n",
              "      <td>-3.591851e-01</td>\n",
              "    </tr>\n",
              "    <tr>\n",
              "      <th>50%</th>\n",
              "      <td>-1.110688e+00</td>\n",
              "      <td>-1.824313e-01</td>\n",
              "      <td>-1.804973e-01</td>\n",
              "      <td>-6.289660e-02</td>\n",
              "      <td>-5.918051e-02</td>\n",
              "      <td>-1.078260e-01</td>\n",
              "      <td>-5.509302e-03</td>\n",
              "      <td>1.888426e-02</td>\n",
              "    </tr>\n",
              "    <tr>\n",
              "      <th>75%</th>\n",
              "      <td>2.528431e+00</td>\n",
              "      <td>1.238930e+00</td>\n",
              "      <td>8.892163e-01</td>\n",
              "      <td>7.023924e-01</td>\n",
              "      <td>6.294085e-01</td>\n",
              "      <td>5.992903e-01</td>\n",
              "      <td>4.462397e-01</td>\n",
              "      <td>3.551078e-01</td>\n",
              "    </tr>\n",
              "    <tr>\n",
              "      <th>max</th>\n",
              "      <td>1.574861e+01</td>\n",
              "      <td>1.264984e+01</td>\n",
              "      <td>9.743745e+00</td>\n",
              "      <td>5.241572e+00</td>\n",
              "      <td>6.377598e+00</td>\n",
              "      <td>4.961734e+00</td>\n",
              "      <td>5.032409e+00</td>\n",
              "      <td>4.207317e+00</td>\n",
              "    </tr>\n",
              "  </tbody>\n",
              "</table>\n",
              "</div>\n",
              "    <div class=\"colab-df-buttons\">\n",
              "\n",
              "  <div class=\"colab-df-container\">\n",
              "    <button class=\"colab-df-convert\" onclick=\"convertToInteractive('df-1784a0b8-f90c-40cf-bf07-a257b4e40bdc')\"\n",
              "            title=\"Convert this dataframe to an interactive table.\"\n",
              "            style=\"display:none;\">\n",
              "\n",
              "  <svg xmlns=\"http://www.w3.org/2000/svg\" height=\"24px\" viewBox=\"0 -960 960 960\">\n",
              "    <path d=\"M120-120v-720h720v720H120Zm60-500h600v-160H180v160Zm220 220h160v-160H400v160Zm0 220h160v-160H400v160ZM180-400h160v-160H180v160Zm440 0h160v-160H620v160ZM180-180h160v-160H180v160Zm440 0h160v-160H620v160Z\"/>\n",
              "  </svg>\n",
              "    </button>\n",
              "\n",
              "  <style>\n",
              "    .colab-df-container {\n",
              "      display:flex;\n",
              "      gap: 12px;\n",
              "    }\n",
              "\n",
              "    .colab-df-convert {\n",
              "      background-color: #E8F0FE;\n",
              "      border: none;\n",
              "      border-radius: 50%;\n",
              "      cursor: pointer;\n",
              "      display: none;\n",
              "      fill: #1967D2;\n",
              "      height: 32px;\n",
              "      padding: 0 0 0 0;\n",
              "      width: 32px;\n",
              "    }\n",
              "\n",
              "    .colab-df-convert:hover {\n",
              "      background-color: #E2EBFA;\n",
              "      box-shadow: 0px 1px 2px rgba(60, 64, 67, 0.3), 0px 1px 3px 1px rgba(60, 64, 67, 0.15);\n",
              "      fill: #174EA6;\n",
              "    }\n",
              "\n",
              "    .colab-df-buttons div {\n",
              "      margin-bottom: 4px;\n",
              "    }\n",
              "\n",
              "    [theme=dark] .colab-df-convert {\n",
              "      background-color: #3B4455;\n",
              "      fill: #D2E3FC;\n",
              "    }\n",
              "\n",
              "    [theme=dark] .colab-df-convert:hover {\n",
              "      background-color: #434B5C;\n",
              "      box-shadow: 0px 1px 3px 1px rgba(0, 0, 0, 0.15);\n",
              "      filter: drop-shadow(0px 1px 2px rgba(0, 0, 0, 0.3));\n",
              "      fill: #FFFFFF;\n",
              "    }\n",
              "  </style>\n",
              "\n",
              "    <script>\n",
              "      const buttonEl =\n",
              "        document.querySelector('#df-1784a0b8-f90c-40cf-bf07-a257b4e40bdc button.colab-df-convert');\n",
              "      buttonEl.style.display =\n",
              "        google.colab.kernel.accessAllowed ? 'block' : 'none';\n",
              "\n",
              "      async function convertToInteractive(key) {\n",
              "        const element = document.querySelector('#df-1784a0b8-f90c-40cf-bf07-a257b4e40bdc');\n",
              "        const dataTable =\n",
              "          await google.colab.kernel.invokeFunction('convertToInteractive',\n",
              "                                                    [key], {});\n",
              "        if (!dataTable) return;\n",
              "\n",
              "        const docLinkHtml = 'Like what you see? Visit the ' +\n",
              "          '<a target=\"_blank\" href=https://colab.research.google.com/notebooks/data_table.ipynb>data table notebook</a>'\n",
              "          + ' to learn more about interactive tables.';\n",
              "        element.innerHTML = '';\n",
              "        dataTable['output_type'] = 'display_data';\n",
              "        await google.colab.output.renderOutput(dataTable, element);\n",
              "        const docLink = document.createElement('div');\n",
              "        docLink.innerHTML = docLinkHtml;\n",
              "        element.appendChild(docLink);\n",
              "      }\n",
              "    </script>\n",
              "  </div>\n",
              "\n",
              "\n",
              "<div id=\"df-97639172-2c12-496f-be03-1c760ef33e7b\">\n",
              "  <button class=\"colab-df-quickchart\" onclick=\"quickchart('df-97639172-2c12-496f-be03-1c760ef33e7b')\"\n",
              "            title=\"Suggest charts\"\n",
              "            style=\"display:none;\">\n",
              "\n",
              "<svg xmlns=\"http://www.w3.org/2000/svg\" height=\"24px\"viewBox=\"0 0 24 24\"\n",
              "     width=\"24px\">\n",
              "    <g>\n",
              "        <path d=\"M19 3H5c-1.1 0-2 .9-2 2v14c0 1.1.9 2 2 2h14c1.1 0 2-.9 2-2V5c0-1.1-.9-2-2-2zM9 17H7v-7h2v7zm4 0h-2V7h2v10zm4 0h-2v-4h2v4z\"/>\n",
              "    </g>\n",
              "</svg>\n",
              "  </button>\n",
              "\n",
              "<style>\n",
              "  .colab-df-quickchart {\n",
              "      --bg-color: #E8F0FE;\n",
              "      --fill-color: #1967D2;\n",
              "      --hover-bg-color: #E2EBFA;\n",
              "      --hover-fill-color: #174EA6;\n",
              "      --disabled-fill-color: #AAA;\n",
              "      --disabled-bg-color: #DDD;\n",
              "  }\n",
              "\n",
              "  [theme=dark] .colab-df-quickchart {\n",
              "      --bg-color: #3B4455;\n",
              "      --fill-color: #D2E3FC;\n",
              "      --hover-bg-color: #434B5C;\n",
              "      --hover-fill-color: #FFFFFF;\n",
              "      --disabled-bg-color: #3B4455;\n",
              "      --disabled-fill-color: #666;\n",
              "  }\n",
              "\n",
              "  .colab-df-quickchart {\n",
              "    background-color: var(--bg-color);\n",
              "    border: none;\n",
              "    border-radius: 50%;\n",
              "    cursor: pointer;\n",
              "    display: none;\n",
              "    fill: var(--fill-color);\n",
              "    height: 32px;\n",
              "    padding: 0;\n",
              "    width: 32px;\n",
              "  }\n",
              "\n",
              "  .colab-df-quickchart:hover {\n",
              "    background-color: var(--hover-bg-color);\n",
              "    box-shadow: 0 1px 2px rgba(60, 64, 67, 0.3), 0 1px 3px 1px rgba(60, 64, 67, 0.15);\n",
              "    fill: var(--button-hover-fill-color);\n",
              "  }\n",
              "\n",
              "  .colab-df-quickchart-complete:disabled,\n",
              "  .colab-df-quickchart-complete:disabled:hover {\n",
              "    background-color: var(--disabled-bg-color);\n",
              "    fill: var(--disabled-fill-color);\n",
              "    box-shadow: none;\n",
              "  }\n",
              "\n",
              "  .colab-df-spinner {\n",
              "    border: 2px solid var(--fill-color);\n",
              "    border-color: transparent;\n",
              "    border-bottom-color: var(--fill-color);\n",
              "    animation:\n",
              "      spin 1s steps(1) infinite;\n",
              "  }\n",
              "\n",
              "  @keyframes spin {\n",
              "    0% {\n",
              "      border-color: transparent;\n",
              "      border-bottom-color: var(--fill-color);\n",
              "      border-left-color: var(--fill-color);\n",
              "    }\n",
              "    20% {\n",
              "      border-color: transparent;\n",
              "      border-left-color: var(--fill-color);\n",
              "      border-top-color: var(--fill-color);\n",
              "    }\n",
              "    30% {\n",
              "      border-color: transparent;\n",
              "      border-left-color: var(--fill-color);\n",
              "      border-top-color: var(--fill-color);\n",
              "      border-right-color: var(--fill-color);\n",
              "    }\n",
              "    40% {\n",
              "      border-color: transparent;\n",
              "      border-right-color: var(--fill-color);\n",
              "      border-top-color: var(--fill-color);\n",
              "    }\n",
              "    60% {\n",
              "      border-color: transparent;\n",
              "      border-right-color: var(--fill-color);\n",
              "    }\n",
              "    80% {\n",
              "      border-color: transparent;\n",
              "      border-right-color: var(--fill-color);\n",
              "      border-bottom-color: var(--fill-color);\n",
              "    }\n",
              "    90% {\n",
              "      border-color: transparent;\n",
              "      border-bottom-color: var(--fill-color);\n",
              "    }\n",
              "  }\n",
              "</style>\n",
              "\n",
              "  <script>\n",
              "    async function quickchart(key) {\n",
              "      const quickchartButtonEl =\n",
              "        document.querySelector('#' + key + ' button');\n",
              "      quickchartButtonEl.disabled = true;  // To prevent multiple clicks.\n",
              "      quickchartButtonEl.classList.add('colab-df-spinner');\n",
              "      try {\n",
              "        const charts = await google.colab.kernel.invokeFunction(\n",
              "            'suggestCharts', [key], {});\n",
              "      } catch (error) {\n",
              "        console.error('Error during call to suggestCharts:', error);\n",
              "      }\n",
              "      quickchartButtonEl.classList.remove('colab-df-spinner');\n",
              "      quickchartButtonEl.classList.add('colab-df-quickchart-complete');\n",
              "    }\n",
              "    (() => {\n",
              "      let quickchartButtonEl =\n",
              "        document.querySelector('#df-97639172-2c12-496f-be03-1c760ef33e7b button');\n",
              "      quickchartButtonEl.style.display =\n",
              "        google.colab.kernel.accessAllowed ? 'block' : 'none';\n",
              "    })();\n",
              "  </script>\n",
              "</div>\n",
              "    </div>\n",
              "  </div>\n"
            ]
          },
          "metadata": {},
          "execution_count": 14
        }
      ]
    },
    {
      "cell_type": "code",
      "source": [
        "df.isnull().sum()"
      ],
      "metadata": {
        "colab": {
          "base_uri": "https://localhost:8080/"
        },
        "id": "yRF-I4C4oIIj",
        "outputId": "9d9af515-c6f9-422f-d664-e177a93d9ff6"
      },
      "execution_count": 15,
      "outputs": [
        {
          "output_type": "execute_result",
          "data": {
            "text/plain": [
              "x1    0\n",
              "x2    0\n",
              "x3    0\n",
              "x4    0\n",
              "x5    0\n",
              "x6    0\n",
              "x7    0\n",
              "x8    0\n",
              "y     0\n",
              "dtype: int64"
            ]
          },
          "metadata": {},
          "execution_count": 15
        }
      ]
    },
    {
      "cell_type": "code",
      "source": [
        "from sklearn.preprocessing import LabelEncoder\n",
        "\n",
        "# Encoding categorical target variable\n",
        "label_encoder = LabelEncoder()\n",
        "df['y_encoded'] = label_encoder.fit_transform(df['y'])\n"
      ],
      "metadata": {
        "id": "jDm0dUSRrG9k"
      },
      "execution_count": 16,
      "outputs": []
    },
    {
      "cell_type": "code",
      "source": [
        "import matplotlib.pyplot as plt\n",
        "import pandas as pd\n",
        "X = df.drop('y', axis=1)  # Features\n",
        "y = df['y']  # Target labels\n",
        "plt.figure(figsize=(8, 6))\n",
        "color_map = {'M': 'red', 'B': 'blue'}\n",
        "for target_label, color in color_map.items():\n",
        "    plt.scatter(X[y == target_label].iloc[:, 0], X[y == target_label].iloc[:, 1],\n",
        "                color=color, label=f\"Target {target_label}\")\n",
        "plt.title('Scatter Plot of x1 and x2 by Target Labels')\n",
        "plt.xlabel('x 1')\n",
        "plt.ylabel('x 2')\n",
        "plt.legend()\n",
        "plt.show()\n"
      ],
      "metadata": {
        "colab": {
          "base_uri": "https://localhost:8080/",
          "height": 564
        },
        "id": "-hzwMGGS5E7f",
        "outputId": "36fcee78-04e7-4326-f431-a491a04165f3"
      },
      "execution_count": 17,
      "outputs": [
        {
          "output_type": "display_data",
          "data": {
            "text/plain": [
              "<Figure size 800x600 with 1 Axes>"
            ],
            "image/png": "[encoded data removed]"
          },
          "metadata": {}
        }
      ]
    },
    {
      "cell_type": "code",
      "source": [
        "from sklearn.model_selection import train_test_split\n",
        "\n",
        "X = df.drop(['y', 'y_encoded'], axis=1)\n",
        "y = df['y_encoded']\n",
        "\n",
        "# Splitting the data\n",
        "X_train, X_test, y_train, y_test = train_test_split(X, y, test_size=0.2, random_state=515)\n"
      ],
      "metadata": {
        "id": "IcsJ5KsFrYlz"
      },
      "execution_count": 18,
      "outputs": []
    },
    {
      "cell_type": "code",
      "source": [
        "from sklearn.model_selection import GridSearchCV\n",
        "from sklearn.linear_model import Perceptron\n",
        "from sklearn.linear_model import LogisticRegression\n",
        "from sklearn.tree import DecisionTreeClassifier\n",
        "from sklearn.ensemble import RandomForestClassifier\n",
        "from sklearn.svm import SVC\n",
        "from sklearn.neighbors import KNeighborsClassifier\n",
        "from xgboost import XGBClassifier\n",
        "from sklearn.metrics import accuracy_score, precision_score, recall_score, f1_score, roc_auc_score\n",
        "\n",
        "models = {\n",
        "    'Perceptron': Perceptron(),\n",
        "    'Logistic Regression': LogisticRegression(),\n",
        "    'Decision Tree': DecisionTreeClassifier(),\n",
        "    'Random Forest': RandomForestClassifier(),\n",
        "    'Support Vector Machine': SVC(),\n",
        "    'K-Nearest Neighbors': KNeighborsClassifier(),\n",
        "    'XGBoost': XGBClassifier()\n",
        "}\n",
        "\n",
        "\n"
      ],
      "metadata": {
        "id": "fR4YVVCSt-1w"
      },
      "execution_count": 19,
      "outputs": []
    },
    {
      "cell_type": "code",
      "source": [
        "# Specify hyperparameters for each model\n",
        "from sklearn.model_selection import GridSearchCV\n",
        "from sklearn.linear_model import Perceptron\n",
        "from sklearn.linear_model import LogisticRegression\n",
        "from sklearn.tree import DecisionTreeClassifier\n",
        "from sklearn.ensemble import RandomForestClassifier\n",
        "from sklearn.svm import SVC\n",
        "from sklearn.neighbors import KNeighborsClassifier\n",
        "from xgboost import XGBClassifier\n",
        "from sklearn.metrics import accuracy_score, precision_score, recall_score, f1_score, roc_auc_score\n",
        "\n",
        "models = {\n",
        "    'Perceptron': Perceptron(),\n",
        "    'Logistic Regression': LogisticRegression(),\n",
        "    'Decision Tree': DecisionTreeClassifier(),\n",
        "    'Random Forest': RandomForestClassifier(),\n",
        "    'Support Vector Machine': SVC(),\n",
        "    'K-Nearest Neighbors': KNeighborsClassifier(),\n",
        "    'XGBoost': XGBClassifier()\n",
        "}\n",
        "\n",
        "params = {\n",
        "    'Perceptron': {'max_iter': [100, 500, 1000], 'eta0': [0.1, 0.01, 0.001]},\n",
        "    'Logistic Regression': {'C': [0.1, 1, 10]},\n",
        "    'Decision Tree': {'max_depth': [None, 5, 10, 15]},\n",
        "    'Random Forest': {'n_estimators': [50, 100, 150], 'max_depth': [None, 5, 10]},\n",
        "    'Support Vector Machine': {'C': [0.1, 1, 10], 'gamma': ['scale', 'auto']},\n",
        "    'K-Nearest Neighbors': {'n_neighbors': [3, 5, 7]},\n",
        "    'XGBoost': {'max_depth': [3, 5, 7], 'learning_rate': [0.1, 0.01, 0.001]}\n",
        "}\n",
        "\n",
        "results = {}\n",
        "for model_name, model in models.items():\n",
        "    grid_search = GridSearchCV(model, params[model_name], cv=5, scoring='accuracy')\n",
        "    grid_search.fit(X_train, y_train)\n",
        "    best_model = grid_search.best_estimator_\n",
        "\n",
        "    best_params = grid_search.best_params_\n",
        "\n",
        "    y_pred = best_model.predict(X_test)\n",
        "\n",
        "    accuracy = accuracy_score(y_test, y_pred)\n",
        "    precision = precision_score(y_test, y_pred)\n",
        "    recall = recall_score(y_test, y_pred)\n",
        "    f1 = f1_score(y_test, y_pred)\n",
        "    roc_auc = roc_auc_score(y_test, y_pred)\n",
        "\n",
        "    results[model_name] = {\n",
        "        'Best Model': best_model,\n",
        "        'Best Parameters': best_params,\n",
        "        'Accuracy': accuracy,\n",
        "        'Precision': precision,\n",
        "        'Recall': recall,\n",
        "        'F1 Score': f1,\n",
        "        'ROC AUC': roc_auc\n",
        "    }\n",
        "\n"
      ],
      "metadata": {
        "id": "DJ_THH_BvCaR"
      },
      "execution_count": 20,
      "outputs": []
    },
    {
      "cell_type": "code",
      "source": [
        "for model_name, metrics in results.items():\n",
        "    print(f\"Model: {model_name}\")\n",
        "    print(f\"Best_Params: {metrics['Best Parameters']}\")\n",
        "    print(f\"Accuracy: {metrics['Accuracy']}\")\n",
        "    print(f\"Precision: {metrics['Precision']}\")\n",
        "    print(f\"Recall: {metrics['Recall']}\")\n",
        "    print(f\"F1 Score: {metrics['F1 Score']}\")\n",
        "    print(f\"ROC AUC: {metrics['ROC AUC']}\")\n",
        "    print(\"------------------------\")\n"
      ],
      "metadata": {
        "colab": {
          "base_uri": "https://localhost:8080/"
        },
        "id": "pfXvvbuSvK2B",
        "outputId": "356c9b53-8775-46a8-bf74-746191e9b798"
      },
      "execution_count": 21,
      "outputs": [
        {
          "output_type": "stream",
          "name": "stdout",
          "text": [
            "Model: Perceptron\n",
            "Best_Params: {'eta0': 0.01, 'max_iter': 100}\n",
            "Accuracy: 0.935064935064935\n",
            "Precision: 0.9655172413793104\n",
            "Recall: 0.875\n",
            "F1 Score: 0.9180327868852458\n",
            "ROC AUC: 0.9263888888888888\n",
            "------------------------\n",
            "Model: Logistic Regression\n",
            "Best_Params: {'C': 0.1}\n",
            "Accuracy: 0.948051948051948\n",
            "Precision: 1.0\n",
            "Recall: 0.875\n",
            "F1 Score: 0.9333333333333333\n",
            "ROC AUC: 0.9375\n",
            "------------------------\n",
            "Model: Decision Tree\n",
            "Best_Params: {'max_depth': 10}\n",
            "Accuracy: 0.922077922077922\n",
            "Precision: 0.9333333333333333\n",
            "Recall: 0.875\n",
            "F1 Score: 0.9032258064516129\n",
            "ROC AUC: 0.9152777777777779\n",
            "------------------------\n",
            "Model: Random Forest\n",
            "Best_Params: {'max_depth': None, 'n_estimators': 150}\n",
            "Accuracy: 0.935064935064935\n",
            "Precision: 0.9655172413793104\n",
            "Recall: 0.875\n",
            "F1 Score: 0.9180327868852458\n",
            "ROC AUC: 0.9263888888888888\n",
            "------------------------\n",
            "Model: Support Vector Machine\n",
            "Best_Params: {'C': 10, 'gamma': 'scale'}\n",
            "Accuracy: 0.948051948051948\n",
            "Precision: 0.9666666666666667\n",
            "Recall: 0.90625\n",
            "F1 Score: 0.9354838709677419\n",
            "ROC AUC: 0.9420138888888889\n",
            "------------------------\n",
            "Model: K-Nearest Neighbors\n",
            "Best_Params: {'n_neighbors': 3}\n",
            "Accuracy: 0.948051948051948\n",
            "Precision: 1.0\n",
            "Recall: 0.875\n",
            "F1 Score: 0.9333333333333333\n",
            "ROC AUC: 0.9375\n",
            "------------------------\n",
            "Model: XGBoost\n",
            "Best_Params: {'learning_rate': 0.1, 'max_depth': 3}\n",
            "Accuracy: 0.935064935064935\n",
            "Precision: 0.9655172413793104\n",
            "Recall: 0.875\n",
            "F1 Score: 0.9180327868852458\n",
            "ROC AUC: 0.9263888888888888\n",
            "------------------------\n"
          ]
        }
      ]
    },
    {
      "cell_type": "markdown",
      "source": [
        "For a task related health data specially cancer detection, where both false negatives and false positives have significant implications,a model that balances precision and recall is ideal to choose.The balance in between them reflects better F1 Score.\n",
        "\n",
        "In my case amongst all the models I have taken into consideration to compare,though K Nearest neighbours and Logistic Regression have 100% precision means it had no false positives! But since this is a medical problem, having false positives weighs lower than false negatives.**Support Vector Machine** is having better F1 score implying less false positives and false negatives, proving it to as the best amongst others. So I would choose Support Vector Machine(SVM) with parameters as {'C': 10, 'gamma': 'scale'}."
      ],
      "metadata": {
        "id": "rdxAmGtSHHAz"
      }
    },
    {
      "cell_type": "code",
      "source": [],
      "metadata": {
        "id": "2k05mESBJPF1"
      },
      "execution_count": 21,
      "outputs": []
    }
  ],
  "metadata": {
    "kernelspec": {
      "display_name": "Python 3",
      "language": "python",
      "name": "python3"
    },
    "language_info": {
      "codemirror_mode": {
        "name": "ipython",
        "version": 3
      },
      "file_extension": ".py",
      "mimetype": "text/x-python",
      "name": "python",
      "nbconvert_exporter": "python",
      "pygments_lexer": "ipython3",
      "version": "3.11.7"
    },
    "colab": {
      "provenance": [],
      "include_colab_link": true
    }
  },
  "nbformat": 4,
  "nbformat_minor": 0
}